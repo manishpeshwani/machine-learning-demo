{
 "cells": [
  {
   "cell_type": "code",
   "execution_count": 32,
   "metadata": {
    "collapsed": true
   },
   "outputs": [],
   "source": [
    "# Data from https://archive.ics.uci.edu/ml/datasets/Pima+Indians+Diabetes\n",
    "\n",
    "   #1. Number of times pregnant\n",
    "   #2. Plasma glucose concentration a 2 hours in an oral glucose tolerance test\n",
    "   #3. Diastolic blood pressure (mm Hg)\n",
    "   #4. Triceps skin fold thickness (mm)\n",
    "   #5. 2-Hour serum insulin (mu U/ml)\n",
    "   #6. Body mass index (weight in kg/(height in m)^2)\n",
    "   #7. Diabetes pedigree function\n",
    "   #8. Age (years)\n",
    "   #9. Class variable (0 or 1)"
   ]
  },
  {
   "cell_type": "code",
   "execution_count": 33,
   "metadata": {
    "collapsed": true
   },
   "outputs": [],
   "source": [
    "import pandas as pd \n",
    "import numpy as np\n",
    "from math import exp"
   ]
  },
  {
   "cell_type": "code",
   "execution_count": 34,
   "metadata": {
    "collapsed": true
   },
   "outputs": [],
   "source": [
    "pima_indians_file = \"C:/Anaconda3/Notebooks/logistic regression/pima-indians-diabetes.data\""
   ]
  },
  {
   "cell_type": "code",
   "execution_count": 35,
   "metadata": {},
   "outputs": [],
   "source": [
    "data = pd.read_csv(pima_indians_file,sep=\",\",names=['times_pregnant','plasma_glucose','blood_pressure','skin_fold_thickness','insulin','body_mass','diabetes_pedigree','age','yes_no'],header=0)"
   ]
  },
  {
   "cell_type": "code",
   "execution_count": 36,
   "metadata": {},
   "outputs": [
    {
     "data": {
      "text/plain": [
       "(767, 9)"
      ]
     },
     "execution_count": 36,
     "metadata": {},
     "output_type": "execute_result"
    }
   ],
   "source": [
    "data.shape"
   ]
  },
  {
   "cell_type": "code",
   "execution_count": 116,
   "metadata": {},
   "outputs": [
    {
     "data": {
      "text/html": [
       "<div>\n",
       "<style>\n",
       "    .dataframe thead tr:only-child th {\n",
       "        text-align: right;\n",
       "    }\n",
       "\n",
       "    .dataframe thead th {\n",
       "        text-align: left;\n",
       "    }\n",
       "\n",
       "    .dataframe tbody tr th {\n",
       "        vertical-align: top;\n",
       "    }\n",
       "</style>\n",
       "<table border=\"1\" class=\"dataframe\">\n",
       "  <thead>\n",
       "    <tr style=\"text-align: right;\">\n",
       "      <th></th>\n",
       "      <th>times_pregnant</th>\n",
       "      <th>plasma_glucose</th>\n",
       "      <th>blood_pressure</th>\n",
       "      <th>skin_fold_thickness</th>\n",
       "      <th>insulin</th>\n",
       "      <th>body_mass</th>\n",
       "      <th>diabetes_pedigree</th>\n",
       "      <th>age</th>\n",
       "      <th>yes_no</th>\n",
       "    </tr>\n",
       "  </thead>\n",
       "  <tbody>\n",
       "    <tr>\n",
       "      <th>762</th>\n",
       "      <td>10</td>\n",
       "      <td>101</td>\n",
       "      <td>76</td>\n",
       "      <td>48</td>\n",
       "      <td>180</td>\n",
       "      <td>32.9</td>\n",
       "      <td>0.171</td>\n",
       "      <td>63</td>\n",
       "      <td>0</td>\n",
       "    </tr>\n",
       "    <tr>\n",
       "      <th>763</th>\n",
       "      <td>2</td>\n",
       "      <td>122</td>\n",
       "      <td>70</td>\n",
       "      <td>27</td>\n",
       "      <td>0</td>\n",
       "      <td>36.8</td>\n",
       "      <td>0.340</td>\n",
       "      <td>27</td>\n",
       "      <td>0</td>\n",
       "    </tr>\n",
       "    <tr>\n",
       "      <th>764</th>\n",
       "      <td>5</td>\n",
       "      <td>121</td>\n",
       "      <td>72</td>\n",
       "      <td>23</td>\n",
       "      <td>112</td>\n",
       "      <td>26.2</td>\n",
       "      <td>0.245</td>\n",
       "      <td>30</td>\n",
       "      <td>0</td>\n",
       "    </tr>\n",
       "    <tr>\n",
       "      <th>765</th>\n",
       "      <td>1</td>\n",
       "      <td>126</td>\n",
       "      <td>60</td>\n",
       "      <td>0</td>\n",
       "      <td>0</td>\n",
       "      <td>30.1</td>\n",
       "      <td>0.349</td>\n",
       "      <td>47</td>\n",
       "      <td>1</td>\n",
       "    </tr>\n",
       "    <tr>\n",
       "      <th>766</th>\n",
       "      <td>1</td>\n",
       "      <td>93</td>\n",
       "      <td>70</td>\n",
       "      <td>31</td>\n",
       "      <td>0</td>\n",
       "      <td>30.4</td>\n",
       "      <td>0.315</td>\n",
       "      <td>23</td>\n",
       "      <td>0</td>\n",
       "    </tr>\n",
       "  </tbody>\n",
       "</table>\n",
       "</div>"
      ],
      "text/plain": [
       "     times_pregnant  plasma_glucose  blood_pressure  skin_fold_thickness  \\\n",
       "762              10             101              76                   48   \n",
       "763               2             122              70                   27   \n",
       "764               5             121              72                   23   \n",
       "765               1             126              60                    0   \n",
       "766               1              93              70                   31   \n",
       "\n",
       "     insulin  body_mass  diabetes_pedigree  age  yes_no  \n",
       "762      180       32.9              0.171   63       0  \n",
       "763        0       36.8              0.340   27       0  \n",
       "764      112       26.2              0.245   30       0  \n",
       "765        0       30.1              0.349   47       1  \n",
       "766        0       30.4              0.315   23       0  "
      ]
     },
     "execution_count": 116,
     "metadata": {},
     "output_type": "execute_result"
    }
   ],
   "source": [
    "data.tail(5)"
   ]
  },
  {
   "cell_type": "code",
   "execution_count": 38,
   "metadata": {
    "collapsed": true
   },
   "outputs": [],
   "source": [
    "X=data.loc[0:,['times_pregnant','plasma_glucose','blood_pressure','skin_fold_thickness','insulin','body_mass','diabetes_pedigree','age']]"
   ]
  },
  {
   "cell_type": "code",
   "execution_count": 39,
   "metadata": {
    "collapsed": true
   },
   "outputs": [],
   "source": [
    "Y=data.loc[0:,['yes_no']]"
   ]
  },
  {
   "cell_type": "code",
   "execution_count": 43,
   "metadata": {
    "collapsed": true
   },
   "outputs": [],
   "source": [
    "#Normalize the features\n",
    "for i in X.columns:\n",
    "    min = X[i].min()\n",
    "    max = X[i].max()\n",
    "    X[i]=(X[i]-min)/(max-min)"
   ]
  },
  {
   "cell_type": "code",
   "execution_count": 44,
   "metadata": {},
   "outputs": [
    {
     "data": {
      "text/html": [
       "<div>\n",
       "<style>\n",
       "    .dataframe thead tr:only-child th {\n",
       "        text-align: right;\n",
       "    }\n",
       "\n",
       "    .dataframe thead th {\n",
       "        text-align: left;\n",
       "    }\n",
       "\n",
       "    .dataframe tbody tr th {\n",
       "        vertical-align: top;\n",
       "    }\n",
       "</style>\n",
       "<table border=\"1\" class=\"dataframe\">\n",
       "  <thead>\n",
       "    <tr style=\"text-align: right;\">\n",
       "      <th></th>\n",
       "      <th>times_pregnant</th>\n",
       "      <th>plasma_glucose</th>\n",
       "      <th>blood_pressure</th>\n",
       "      <th>skin_fold_thickness</th>\n",
       "      <th>insulin</th>\n",
       "      <th>body_mass</th>\n",
       "      <th>diabetes_pedigree</th>\n",
       "      <th>age</th>\n",
       "    </tr>\n",
       "  </thead>\n",
       "  <tbody>\n",
       "    <tr>\n",
       "      <th>0</th>\n",
       "      <td>0.058824</td>\n",
       "      <td>0.427136</td>\n",
       "      <td>0.540984</td>\n",
       "      <td>0.292929</td>\n",
       "      <td>0.000000</td>\n",
       "      <td>0.396423</td>\n",
       "      <td>0.116567</td>\n",
       "      <td>0.166667</td>\n",
       "    </tr>\n",
       "    <tr>\n",
       "      <th>1</th>\n",
       "      <td>0.470588</td>\n",
       "      <td>0.919598</td>\n",
       "      <td>0.524590</td>\n",
       "      <td>0.000000</td>\n",
       "      <td>0.000000</td>\n",
       "      <td>0.347243</td>\n",
       "      <td>0.253629</td>\n",
       "      <td>0.183333</td>\n",
       "    </tr>\n",
       "    <tr>\n",
       "      <th>2</th>\n",
       "      <td>0.058824</td>\n",
       "      <td>0.447236</td>\n",
       "      <td>0.540984</td>\n",
       "      <td>0.232323</td>\n",
       "      <td>0.111111</td>\n",
       "      <td>0.418778</td>\n",
       "      <td>0.038002</td>\n",
       "      <td>0.000000</td>\n",
       "    </tr>\n",
       "    <tr>\n",
       "      <th>3</th>\n",
       "      <td>0.000000</td>\n",
       "      <td>0.688442</td>\n",
       "      <td>0.327869</td>\n",
       "      <td>0.353535</td>\n",
       "      <td>0.198582</td>\n",
       "      <td>0.642325</td>\n",
       "      <td>0.943638</td>\n",
       "      <td>0.200000</td>\n",
       "    </tr>\n",
       "    <tr>\n",
       "      <th>4</th>\n",
       "      <td>0.294118</td>\n",
       "      <td>0.582915</td>\n",
       "      <td>0.606557</td>\n",
       "      <td>0.000000</td>\n",
       "      <td>0.000000</td>\n",
       "      <td>0.381520</td>\n",
       "      <td>0.052519</td>\n",
       "      <td>0.150000</td>\n",
       "    </tr>\n",
       "  </tbody>\n",
       "</table>\n",
       "</div>"
      ],
      "text/plain": [
       "   times_pregnant  plasma_glucose  blood_pressure  skin_fold_thickness  \\\n",
       "0        0.058824        0.427136        0.540984             0.292929   \n",
       "1        0.470588        0.919598        0.524590             0.000000   \n",
       "2        0.058824        0.447236        0.540984             0.232323   \n",
       "3        0.000000        0.688442        0.327869             0.353535   \n",
       "4        0.294118        0.582915        0.606557             0.000000   \n",
       "\n",
       "    insulin  body_mass  diabetes_pedigree       age  \n",
       "0  0.000000   0.396423           0.116567  0.166667  \n",
       "1  0.000000   0.347243           0.253629  0.183333  \n",
       "2  0.111111   0.418778           0.038002  0.000000  \n",
       "3  0.198582   0.642325           0.943638  0.200000  \n",
       "4  0.000000   0.381520           0.052519  0.150000  "
      ]
     },
     "execution_count": 44,
     "metadata": {},
     "output_type": "execute_result"
    }
   ],
   "source": [
    "X.head(5)"
   ]
  },
  {
   "cell_type": "code",
   "execution_count": 45,
   "metadata": {
    "collapsed": true
   },
   "outputs": [],
   "source": [
    "#Get the matrix from dataframe using numpy\n",
    "features = np.matrix(X)\n",
    "labels = np.matrix(Y)"
   ]
  },
  {
   "cell_type": "code",
   "execution_count": 46,
   "metadata": {},
   "outputs": [
    {
     "data": {
      "text/plain": [
       "matrix([[ 1.        ,  0.05882353,  0.42713568,  0.54098361,  0.29292929,\n",
       "          0.        ,  0.39642325,  0.11656704,  0.16666667]])"
      ]
     },
     "execution_count": 46,
     "metadata": {},
     "output_type": "execute_result"
    }
   ],
   "source": [
    "bias = np.ones((features.shape[0],1))\n",
    "features =  np.append(bias, features,axis=1)\n",
    "features[0]"
   ]
  },
  {
   "cell_type": "code",
   "execution_count": 67,
   "metadata": {
    "collapsed": true
   },
   "outputs": [],
   "source": [
    "def sigmoid(featureValues, theta):\n",
    "    #print(featureValues)\n",
    "    z=np.dot(featureValues,theta.T)\n",
    "    #print(z)\n",
    "    return 1/(1+np.exp(-z))"
   ]
  },
  {
   "cell_type": "code",
   "execution_count": 71,
   "metadata": {
    "collapsed": true
   },
   "outputs": [],
   "source": [
    "#Cost function which gives rmse - root mean squared error\n",
    "def costfunction(featureValues, actualValues, theta):\n",
    "    m = featureValues.shape[0] # number of observations\n",
    "    A = sigmoid(featureValues, theta)\n",
    "    cost = -1/m * np.sum(actualValues.T * np.log(A) + (1-actualValues).T * (np.log(1-A)))\n",
    "    return cost"
   ]
  },
  {
   "cell_type": "code",
   "execution_count": 72,
   "metadata": {
    "collapsed": true
   },
   "outputs": [],
   "source": [
    "def gradientDescent(featureValues, actualValues, learning_rate, num_iterations):\n",
    "    num_features = featureValues.shape[1] #size of theta is determined by number of features\n",
    "    theta = np.matrix([0.0 for i in range(num_features)]) # initialize theta values by 0.0\n",
    "    \n",
    "    cost = [0.0 for i in range(num_iterations)]\n",
    "    \n",
    "    for it in range(num_iterations):\n",
    "        predictedValues = sigmoid(featureValues, theta)\n",
    "        error = np.repeat((predictedValues-actualValues), num_features, axis=1)\n",
    "       \n",
    "        error_derivative = np.sum(np.multiply(featureValues,error),axis=0)\n",
    "        theta = theta - (learning_rate*(1/len(actualValues)))*error_derivative\n",
    "        \n",
    "        cost[it] = costfunction(featureValues, actualValues, theta)\n",
    "    return theta, cost"
   ]
  },
  {
   "cell_type": "code",
   "execution_count": 77,
   "metadata": {},
   "outputs": [],
   "source": [
    "learning_rate=0.1\n",
    "num_iterations=50000\n",
    "theta, cost = gradientDescent(features, labels, learning_rate, num_iterations)"
   ]
  },
  {
   "cell_type": "code",
   "execution_count": 78,
   "metadata": {},
   "outputs": [
    {
     "data": {
      "text/plain": [
       "matrix([[-7.98309118,  2.09077891,  6.96518857, -1.61063466,  0.03845261,\n",
       "         -0.97221919,  5.98639637,  2.20060121,  0.87693448]])"
      ]
     },
     "execution_count": 78,
     "metadata": {},
     "output_type": "execute_result"
    }
   ],
   "source": [
    "theta"
   ]
  },
  {
   "cell_type": "code",
   "execution_count": 79,
   "metadata": {},
   "outputs": [
    {
     "data": {
      "text/plain": [
       "(0.68952524424367168, 0.47118003505001571)"
      ]
     },
     "execution_count": 79,
     "metadata": {},
     "output_type": "execute_result"
    }
   ],
   "source": [
    "cost[0],cost[num_iterations-1]"
   ]
  },
  {
   "cell_type": "code",
   "execution_count": 107,
   "metadata": {},
   "outputs": [
    {
     "name": "stdout",
     "output_type": "stream",
     "text": [
      "0.795547890969\n"
     ]
    }
   ],
   "source": [
    "#Test\n",
    "test_index=1\n",
    "features[test_index]\n",
    "\n",
    "predictedValue = sigmoid(theta, features[test_index][0])\n",
    "\n",
    "actualValue = labels[test_index]\n",
    "predictedValue.shape, actualValue.shape\n",
    "predicted = predictedValue[0,0]\n",
    "print(predicated)\n",
    "#np.subtract(actualValue,predicatedValue)"
   ]
  },
  {
   "cell_type": "code",
   "execution_count": 114,
   "metadata": {},
   "outputs": [],
   "source": [
    "def accuracy():\n",
    "    matched = list()\n",
    "    for i in range(features.shape[0]):\n",
    "        predictedValue = sigmoid(theta, features[i][0])\n",
    "        predicted = predictedValue[0,0]\n",
    "        if predicted > 0.5:\n",
    "            predicted = 1\n",
    "        else:\n",
    "            predicted = 0\n",
    "        actualValue = labels[i]\n",
    "        actual = actualValue[0,0]\n",
    "        if predicted == actual:\n",
    "            matched.append(predicted)\n",
    "    return (len(matched) /features.shape[0])*100       "
   ]
  },
  {
   "cell_type": "code",
   "execution_count": 115,
   "metadata": {},
   "outputs": [
    {
     "name": "stdout",
     "output_type": "stream",
     "text": [
      "78.22685788787483\n"
     ]
    }
   ],
   "source": [
    "a=accuracy()\n",
    "print(a)"
   ]
  },
  {
   "cell_type": "code",
   "execution_count": null,
   "metadata": {
    "collapsed": true
   },
   "outputs": [],
   "source": []
  }
 ],
 "metadata": {
  "kernelspec": {
   "display_name": "Python 3",
   "language": "python",
   "name": "python3"
  },
  "language_info": {
   "codemirror_mode": {
    "name": "ipython",
    "version": 3
   },
   "file_extension": ".py",
   "mimetype": "text/x-python",
   "name": "python",
   "nbconvert_exporter": "python",
   "pygments_lexer": "ipython3",
   "version": "3.6.2"
  }
 },
 "nbformat": 4,
 "nbformat_minor": 2
}
