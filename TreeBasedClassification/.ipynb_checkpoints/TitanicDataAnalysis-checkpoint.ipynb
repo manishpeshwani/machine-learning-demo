{
 "cells": [
  {
   "cell_type": "code",
   "execution_count": 1,
   "metadata": {
    "collapsed": true
   },
   "outputs": [],
   "source": [
    "datafile = \"titanicdata.htm\""
   ]
  },
  {
   "cell_type": "code",
   "execution_count": 7,
   "metadata": {},
   "outputs": [],
   "source": [
    "from bs4 import BeautifulSoup\n",
    "with open(datafile,encoding=\"ISO-8859-1\") as f:\n",
    "    soup = BeautifulSoup(f, \"html.parser\")"
   ]
  },
  {
   "cell_type": "code",
   "execution_count": 8,
   "metadata": {
    "collapsed": true
   },
   "outputs": [],
   "source": [
    "table = soup.find('table')"
   ]
  },
  {
   "cell_type": "code",
   "execution_count": 9,
   "metadata": {
    "collapsed": true
   },
   "outputs": [],
   "source": [
    "import pandas as pd\n",
    "data = pd.read_html(str(table), flavor='bs4')[0]"
   ]
  },
  {
   "cell_type": "code",
   "execution_count": 10,
   "metadata": {},
   "outputs": [
    {
     "data": {
      "text/html": [
       "<div>\n",
       "<style>\n",
       "    .dataframe thead tr:only-child th {\n",
       "        text-align: right;\n",
       "    }\n",
       "\n",
       "    .dataframe thead th {\n",
       "        text-align: left;\n",
       "    }\n",
       "\n",
       "    .dataframe tbody tr th {\n",
       "        vertical-align: top;\n",
       "    }\n",
       "</style>\n",
       "<table border=\"1\" class=\"dataframe\">\n",
       "  <thead>\n",
       "    <tr style=\"text-align: right;\">\n",
       "      <th></th>\n",
       "      <th>Name</th>\n",
       "      <th>Age</th>\n",
       "      <th>Class/Dept</th>\n",
       "      <th>Ticket</th>\n",
       "      <th>Joined</th>\n",
       "      <th>Job</th>\n",
       "      <th>Boat [Body]</th>\n",
       "      <th>Unnamed: 7</th>\n",
       "    </tr>\n",
       "  </thead>\n",
       "  <tbody>\n",
       "    <tr>\n",
       "      <th>0</th>\n",
       "      <td>ABÄ«-AL-MUNÃ , Mr NÄsÄ«f QÄsim</td>\n",
       "      <td>27</td>\n",
       "      <td>3rd Class Passenger</td>\n",
       "      <td>2699£18 15s 9d</td>\n",
       "      <td>Cherbourg</td>\n",
       "      <td>NaN</td>\n",
       "      <td>15</td>\n",
       "      <td>NaN</td>\n",
       "    </tr>\n",
       "    <tr>\n",
       "      <th>1</th>\n",
       "      <td>ABBING, Mr Anthony</td>\n",
       "      <td>42</td>\n",
       "      <td>3rd Class Passenger</td>\n",
       "      <td>5547£7 11s</td>\n",
       "      <td>Southampton</td>\n",
       "      <td>Blacksmith</td>\n",
       "      <td>NaN</td>\n",
       "      <td>NaN</td>\n",
       "    </tr>\n",
       "    <tr>\n",
       "      <th>2</th>\n",
       "      <td>ABBOTT, Mrs Rhoda Mary 'Rosa'</td>\n",
       "      <td>39</td>\n",
       "      <td>3rd Class Passenger</td>\n",
       "      <td>CA2673£20 5s</td>\n",
       "      <td>Southampton</td>\n",
       "      <td>NaN</td>\n",
       "      <td>A</td>\n",
       "      <td>NaN</td>\n",
       "    </tr>\n",
       "    <tr>\n",
       "      <th>3</th>\n",
       "      <td>ABBOTT, Mr Rossmore Edward</td>\n",
       "      <td>16</td>\n",
       "      <td>3rd Class Passenger</td>\n",
       "      <td>CA2673£20 5s</td>\n",
       "      <td>Southampton</td>\n",
       "      <td>Jeweller</td>\n",
       "      <td>[190]</td>\n",
       "      <td>NaN</td>\n",
       "    </tr>\n",
       "    <tr>\n",
       "      <th>4</th>\n",
       "      <td>ABBOTT, Mr Eugene Joseph</td>\n",
       "      <td>13</td>\n",
       "      <td>3rd Class Passenger</td>\n",
       "      <td>CA2673£20 5s</td>\n",
       "      <td>Southampton</td>\n",
       "      <td>Scholar</td>\n",
       "      <td>NaN</td>\n",
       "      <td>NaN</td>\n",
       "    </tr>\n",
       "  </tbody>\n",
       "</table>\n",
       "</div>"
      ],
      "text/plain": [
       "                               Name Age           Class/Dept          Ticket  \\\n",
       "0  ABÄ«-AL-MUNÃ , Mr NÄsÄ«f QÄsim  27  3rd Class Passenger  2699£18 15s 9d   \n",
       "1                ABBING, Mr Anthony  42  3rd Class Passenger      5547£7 11s   \n",
       "2     ABBOTT, Mrs Rhoda Mary 'Rosa'  39  3rd Class Passenger    CA2673£20 5s   \n",
       "3        ABBOTT, Mr Rossmore Edward  16  3rd Class Passenger    CA2673£20 5s   \n",
       "4          ABBOTT, Mr Eugene Joseph  13  3rd Class Passenger    CA2673£20 5s   \n",
       "\n",
       "        Joined         Job Boat [Body]  Unnamed: 7  \n",
       "0    Cherbourg         NaN          15         NaN  \n",
       "1  Southampton  Blacksmith         NaN         NaN  \n",
       "2  Southampton         NaN           A         NaN  \n",
       "3  Southampton    Jeweller       [190]         NaN  \n",
       "4  Southampton     Scholar         NaN         NaN  "
      ]
     },
     "execution_count": 10,
     "metadata": {},
     "output_type": "execute_result"
    }
   ],
   "source": [
    "data.head()"
   ]
  },
  {
   "cell_type": "code",
   "execution_count": 33,
   "metadata": {},
   "outputs": [],
   "source": [
    "def cleanup(value):\n",
    "    value = value.encode('utf8')\n",
    "    return value.decode('utf8',errors='replace').replace(\"?\",\"\")"
   ]
  },
  {
   "cell_type": "code",
   "execution_count": 38,
   "metadata": {},
   "outputs": [],
   "source": [
    "data['Name'] = data['Name'].apply(cleanup)\n",
    "#data['Boat [Body]'] = data['Boat [Body]'].apply(cleanup)\n",
    "data['Age'] = data['Age'].apply(pd.to_numeric, errors='coerce')\n",
    "data = data[['Name','Age','Class/Dept','Boat [Body]']]"
   ]
  },
  {
   "cell_type": "code",
   "execution_count": 39,
   "metadata": {},
   "outputs": [
    {
     "data": {
      "text/html": [
       "<div>\n",
       "<style>\n",
       "    .dataframe thead tr:only-child th {\n",
       "        text-align: right;\n",
       "    }\n",
       "\n",
       "    .dataframe thead th {\n",
       "        text-align: left;\n",
       "    }\n",
       "\n",
       "    .dataframe tbody tr th {\n",
       "        vertical-align: top;\n",
       "    }\n",
       "</style>\n",
       "<table border=\"1\" class=\"dataframe\">\n",
       "  <thead>\n",
       "    <tr style=\"text-align: right;\">\n",
       "      <th></th>\n",
       "      <th>Name</th>\n",
       "      <th>Age</th>\n",
       "      <th>Class/Dept</th>\n",
       "      <th>Boat [Body]</th>\n",
       "    </tr>\n",
       "  </thead>\n",
       "  <tbody>\n",
       "    <tr>\n",
       "      <th>0</th>\n",
       "      <td>AB��-AL-MUN��, Mr N��s��f Q��sim</td>\n",
       "      <td>27.0</td>\n",
       "      <td>3rd Class Passenger</td>\n",
       "      <td>15</td>\n",
       "    </tr>\n",
       "    <tr>\n",
       "      <th>1</th>\n",
       "      <td>ABBING, Mr Anthony</td>\n",
       "      <td>42.0</td>\n",
       "      <td>3rd Class Passenger</td>\n",
       "      <td>NaN</td>\n",
       "    </tr>\n",
       "    <tr>\n",
       "      <th>2</th>\n",
       "      <td>ABBOTT, Mrs Rhoda Mary 'Rosa'</td>\n",
       "      <td>39.0</td>\n",
       "      <td>3rd Class Passenger</td>\n",
       "      <td>A</td>\n",
       "    </tr>\n",
       "    <tr>\n",
       "      <th>3</th>\n",
       "      <td>ABBOTT, Mr Rossmore Edward</td>\n",
       "      <td>16.0</td>\n",
       "      <td>3rd Class Passenger</td>\n",
       "      <td>[190]</td>\n",
       "    </tr>\n",
       "    <tr>\n",
       "      <th>4</th>\n",
       "      <td>ABBOTT, Mr Eugene Joseph</td>\n",
       "      <td>13.0</td>\n",
       "      <td>3rd Class Passenger</td>\n",
       "      <td>NaN</td>\n",
       "    </tr>\n",
       "  </tbody>\n",
       "</table>\n",
       "</div>"
      ],
      "text/plain": [
       "                               Name   Age           Class/Dept Boat [Body]\n",
       "0  AB��-AL-MUN��, Mr N��s��f Q��sim  27.0  3rd Class Passenger          15\n",
       "1                ABBING, Mr Anthony  42.0  3rd Class Passenger         NaN\n",
       "2     ABBOTT, Mrs Rhoda Mary 'Rosa'  39.0  3rd Class Passenger           A\n",
       "3        ABBOTT, Mr Rossmore Edward  16.0  3rd Class Passenger       [190]\n",
       "4          ABBOTT, Mr Eugene Joseph  13.0  3rd Class Passenger         NaN"
      ]
     },
     "execution_count": 39,
     "metadata": {},
     "output_type": "execute_result"
    }
   ],
   "source": [
    "data.head()"
   ]
  },
  {
   "cell_type": "code",
   "execution_count": null,
   "metadata": {
    "collapsed": true
   },
   "outputs": [],
   "source": []
  }
 ],
 "metadata": {
  "kernelspec": {
   "display_name": "Python 3",
   "language": "python",
   "name": "python3"
  },
  "language_info": {
   "codemirror_mode": {
    "name": "ipython",
    "version": 3
   },
   "file_extension": ".py",
   "mimetype": "text/x-python",
   "name": "python",
   "nbconvert_exporter": "python",
   "pygments_lexer": "ipython3",
   "version": "3.6.2"
  }
 },
 "nbformat": 4,
 "nbformat_minor": 2
}
