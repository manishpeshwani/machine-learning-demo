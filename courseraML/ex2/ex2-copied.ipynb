{
 "cells": [
  {
   "cell_type": "code",
   "execution_count": 1,
   "metadata": {
    "collapsed": true
   },
   "outputs": [],
   "source": [
    "%matplotlib inline\n",
    "import numpy as np\n",
    "import matplotlib.pyplot as plt\n",
    "import pandas as pd"
   ]
  },
  {
   "cell_type": "code",
   "execution_count": 2,
   "metadata": {
    "collapsed": true
   },
   "outputs": [],
   "source": [
    "datafile = 'data/ex2data1.data'\n",
    "#!head $datafile\n",
    "cols = np.loadtxt(datafile,delimiter=',',usecols=(0,1,2),unpack=True) #Read in comma separated data\n",
    "##Form the usual \"X\" matrix and \"y\" vector\n",
    "X = np.transpose(np.array(cols[:-1]))\n",
    "y = np.transpose(np.array(cols[-1:]))\n",
    "m = y.size # number of training examples\n",
    "##Insert the usual column of 1's into the \"X\" matrix\n",
    "X = np.insert(X,0,1,axis=1)"
   ]
  },
  {
   "cell_type": "code",
   "execution_count": 16,
   "metadata": {},
   "outputs": [
    {
     "data": {
      "text/plain": [
       "array([[  1.        ,  34.62365962,  78.02469282],\n",
       "       [  1.        ,  30.28671077,  43.89499752],\n",
       "       [  1.        ,  35.84740877,  72.90219803],\n",
       "       [  1.        ,  60.18259939,  86.3085521 ],\n",
       "       [  1.        ,  79.03273605,  75.34437644],\n",
       "       [  1.        ,  45.08327748,  56.31637178],\n",
       "       [  1.        ,  61.10666454,  96.51142588],\n",
       "       [  1.        ,  75.02474557,  46.55401354],\n",
       "       [  1.        ,  76.0987867 ,  87.42056972],\n",
       "       [  1.        ,  84.43281996,  43.53339331],\n",
       "       [  1.        ,  95.86155507,  38.22527806],\n",
       "       [  1.        ,  75.01365839,  30.60326323],\n",
       "       [  1.        ,  82.30705337,  76.4819633 ],\n",
       "       [  1.        ,  69.36458876,  97.71869196],\n",
       "       [  1.        ,  39.53833914,  76.03681085],\n",
       "       [  1.        ,  53.97105215,  89.20735014],\n",
       "       [  1.        ,  69.07014406,  52.74046973],\n",
       "       [  1.        ,  67.94685548,  46.67857411],\n",
       "       [  1.        ,  70.66150955,  92.92713789],\n",
       "       [  1.        ,  76.97878373,  47.57596365],\n",
       "       [  1.        ,  67.37202755,  42.83843832],\n",
       "       [  1.        ,  89.67677575,  65.79936593],\n",
       "       [  1.        ,  50.53478829,  48.85581153],\n",
       "       [  1.        ,  34.21206098,  44.2095286 ],\n",
       "       [  1.        ,  77.92409145,  68.97235999],\n",
       "       [  1.        ,  62.27101367,  69.95445795],\n",
       "       [  1.        ,  80.19018075,  44.82162893],\n",
       "       [  1.        ,  93.1143888 ,  38.80067034],\n",
       "       [  1.        ,  61.83020602,  50.25610789],\n",
       "       [  1.        ,  38.7858038 ,  64.99568096],\n",
       "       [  1.        ,  61.37928945,  72.80788731],\n",
       "       [  1.        ,  85.40451939,  57.05198398],\n",
       "       [  1.        ,  52.10797973,  63.12762377],\n",
       "       [  1.        ,  52.04540477,  69.43286012],\n",
       "       [  1.        ,  40.23689374,  71.16774802],\n",
       "       [  1.        ,  54.63510555,  52.21388588],\n",
       "       [  1.        ,  33.91550011,  98.86943574],\n",
       "       [  1.        ,  64.17698887,  80.90806059],\n",
       "       [  1.        ,  74.78925296,  41.57341523],\n",
       "       [  1.        ,  34.18364003,  75.23772034],\n",
       "       [  1.        ,  83.90239366,  56.30804622],\n",
       "       [  1.        ,  51.54772027,  46.85629026],\n",
       "       [  1.        ,  94.44336777,  65.56892161],\n",
       "       [  1.        ,  82.36875376,  40.61825516],\n",
       "       [  1.        ,  51.04775177,  45.82270146],\n",
       "       [  1.        ,  62.22267576,  52.06099195],\n",
       "       [  1.        ,  77.19303493,  70.4582    ],\n",
       "       [  1.        ,  97.77159928,  86.72782233],\n",
       "       [  1.        ,  62.0730638 ,  96.76882412],\n",
       "       [  1.        ,  91.5649745 ,  88.69629255],\n",
       "       [  1.        ,  79.94481794,  74.16311935],\n",
       "       [  1.        ,  99.27252693,  60.999031  ],\n",
       "       [  1.        ,  90.54671411,  43.39060181],\n",
       "       [  1.        ,  34.52451385,  60.39634246],\n",
       "       [  1.        ,  50.28649612,  49.80453881],\n",
       "       [  1.        ,  49.58667722,  59.80895099],\n",
       "       [  1.        ,  97.64563396,  68.86157272],\n",
       "       [  1.        ,  32.57720017,  95.59854761],\n",
       "       [  1.        ,  74.24869137,  69.82457123],\n",
       "       [  1.        ,  71.79646206,  78.45356225],\n",
       "       [  1.        ,  75.39561147,  85.75993667],\n",
       "       [  1.        ,  35.28611282,  47.02051395],\n",
       "       [  1.        ,  56.2538175 ,  39.26147251],\n",
       "       [  1.        ,  30.05882245,  49.59297387],\n",
       "       [  1.        ,  44.66826172,  66.45008615],\n",
       "       [  1.        ,  66.56089447,  41.09209808],\n",
       "       [  1.        ,  40.45755098,  97.53518549],\n",
       "       [  1.        ,  49.07256322,  51.88321182],\n",
       "       [  1.        ,  80.27957401,  92.11606081],\n",
       "       [  1.        ,  66.74671857,  60.99139403],\n",
       "       [  1.        ,  32.72283304,  43.30717306],\n",
       "       [  1.        ,  64.03932042,  78.03168802],\n",
       "       [  1.        ,  72.34649423,  96.22759297],\n",
       "       [  1.        ,  60.45788574,  73.0949981 ],\n",
       "       [  1.        ,  58.84095622,  75.85844831],\n",
       "       [  1.        ,  99.8278578 ,  72.36925193],\n",
       "       [  1.        ,  47.26426911,  88.475865  ],\n",
       "       [  1.        ,  50.4581598 ,  75.80985953],\n",
       "       [  1.        ,  60.45555629,  42.50840944],\n",
       "       [  1.        ,  82.22666158,  42.71987854],\n",
       "       [  1.        ,  88.91389642,  69.8037889 ],\n",
       "       [  1.        ,  94.83450672,  45.6943068 ],\n",
       "       [  1.        ,  67.31925747,  66.58935318],\n",
       "       [  1.        ,  57.23870632,  59.51428198],\n",
       "       [  1.        ,  80.366756  ,  90.9601479 ],\n",
       "       [  1.        ,  68.46852179,  85.5943071 ],\n",
       "       [  1.        ,  42.07545454,  78.844786  ],\n",
       "       [  1.        ,  75.47770201,  90.424539  ],\n",
       "       [  1.        ,  78.63542435,  96.64742717],\n",
       "       [  1.        ,  52.34800399,  60.76950526],\n",
       "       [  1.        ,  94.09433113,  77.15910509],\n",
       "       [  1.        ,  90.44855097,  87.50879176],\n",
       "       [  1.        ,  55.48216114,  35.57070347],\n",
       "       [  1.        ,  74.49269242,  84.84513685],\n",
       "       [  1.        ,  89.84580671,  45.35828361],\n",
       "       [  1.        ,  83.48916274,  48.3802858 ],\n",
       "       [  1.        ,  42.26170081,  87.10385094],\n",
       "       [  1.        ,  99.31500881,  68.77540947],\n",
       "       [  1.        ,  55.34001756,  64.93193801],\n",
       "       [  1.        ,  74.775893  ,  89.5298129 ]])"
      ]
     },
     "execution_count": 16,
     "metadata": {},
     "output_type": "execute_result"
    }
   ],
   "source": [
    "X"
   ]
  },
  {
   "cell_type": "code",
   "execution_count": 4,
   "metadata": {},
   "outputs": [],
   "source": [
    "\n",
    "#Divide the sample into two: ones with positive classification, one with null classification\n",
    "pos = np.array([X[i] for i in range(X.shape[0]) if y[i] == 1])\n",
    "neg = np.array([X[i] for i in range(X.shape[0]) if y[i] == 0])\n",
    "#Check to make sure I included all entries\n",
    "#print \"Included everything? \",(len(pos)+len(neg) == X.shape[0])"
   ]
  },
  {
   "cell_type": "code",
   "execution_count": 5,
   "metadata": {},
   "outputs": [
    {
     "data": {
      "image/png": "[encoded data removed]",
      "text/plain": [
       "<matplotlib.figure.Figure at 0x76a9a30>"
      ]
     },
     "metadata": {},
     "output_type": "display_data"
    }
   ],
   "source": [
    "def plotData():\n",
    "    plt.figure(figsize=(10,6))\n",
    "    plt.plot(pos[:,1],pos[:,2],'k+',label='Admitted')\n",
    "    plt.plot(neg[:,1],neg[:,2],'yo',label='Not admitted')\n",
    "    plt.xlabel('Exam 1 score')\n",
    "    plt.ylabel('Exam 2 score')\n",
    "    plt.legend()\n",
    "    plt.grid(True)\n",
    "    \n",
    "plotData()"
   ]
  },
  {
   "cell_type": "code",
   "execution_count": 6,
   "metadata": {
    "collapsed": true
   },
   "outputs": [],
   "source": [
    "from scipy.special import expit #Vectorized sigmoid function"
   ]
  },
  {
   "cell_type": "code",
   "execution_count": 7,
   "metadata": {},
   "outputs": [
    {
     "data": {
      "image/png": "[encoded data removed]",
      "text/plain": [
       "<matplotlib.figure.Figure at 0x803a9d0>"
      ]
     },
     "metadata": {},
     "output_type": "display_data"
    }
   ],
   "source": [
    "#Quick check that expit is what I think it is\n",
    "myx = np.arange(-10,10,.1)\n",
    "plt.plot(myx,expit(myx))\n",
    "plt.title(\"Woohoo this looks like a sigmoid function to me.\")\n",
    "plt.grid(True)"
   ]
  },
  {
   "cell_type": "code",
   "execution_count": 8,
   "metadata": {
    "collapsed": true
   },
   "outputs": [],
   "source": [
    "#Hypothesis function and cost function for logistic regression\n",
    "def h(mytheta,myX): #Logistic hypothesis function\n",
    "    return expit(np.dot(myX,mytheta))\n",
    "\n",
    "#Cost function, default lambda (regularization) 0\n",
    "def computeCost(mytheta,myX,myy,mylambda = 0.): \n",
    "    \"\"\"\n",
    "    theta_start is an n- dimensional vector of initial theta guess\n",
    "    X is matrix with n- columns and m- rows\n",
    "    y is a matrix with m- rows and 1 column\n",
    "    Note this includes regularization, if you set mylambda to nonzero\n",
    "    For the first part of the homework, the default 0. is used for mylambda\n",
    "    \"\"\"\n",
    "    #note to self: *.shape is (rows, columns)\n",
    "    term1 = np.dot(-np.array(myy).T,np.log(h(mytheta,myX)))\n",
    "    term2 = np.dot((1-np.array(myy)).T,np.log(1-h(mytheta,myX)))\n",
    "    regterm = (mylambda/2) * np.sum(np.dot(mytheta[1:].T,mytheta[1:])) #Skip theta0\n",
    "    return float( (1./m) * ( np.sum(term1 - term2) + regterm ) )"
   ]
  },
  {
   "cell_type": "code",
   "execution_count": 9,
   "metadata": {},
   "outputs": [
    {
     "data": {
      "text/plain": [
       "0.6931471805599452"
      ]
     },
     "execution_count": 9,
     "metadata": {},
     "output_type": "execute_result"
    }
   ],
   "source": [
    "#Check that with theta as zeros, cost returns about 0.693:\n",
    "initial_theta = np.zeros((X.shape[1],1))\n",
    "computeCost(initial_theta,X,y)"
   ]
  },
  {
   "cell_type": "code",
   "execution_count": 10,
   "metadata": {
    "collapsed": true
   },
   "outputs": [],
   "source": [
    "#An alternative to OCTAVE's 'fminunc' we'll use some scipy.optimize function, \"fmin\"\n",
    "#Note \"fmin\" does not need to be told explicitly the derivative terms\n",
    "#It only needs the cost function, and it minimizes with the \"downhill simplex algorithm.\"\n",
    "#http://docs.scipy.org/doc/scipy-0.16.0/reference/generated/scipy.optimize.fmin.html\n",
    "from scipy import optimize\n",
    "\n",
    "def optimizeTheta(mytheta,myX,myy,mylambda=0.):\n",
    "    result = optimize.fmin(computeCost, x0=mytheta, args=(myX, myy, mylambda), maxiter=400, full_output=True)\n",
    "    return result[0], result[1]"
   ]
  },
  {
   "cell_type": "code",
   "execution_count": 22,
   "metadata": {},
   "outputs": [
    {
     "data": {
      "text/plain": [
       "array([[ 0.],\n",
       "       [ 0.],\n",
       "       [ 0.],\n",
       "       [ 1.],\n",
       "       [ 1.],\n",
       "       [ 0.],\n",
       "       [ 1.],\n",
       "       [ 1.],\n",
       "       [ 1.],\n",
       "       [ 1.],\n",
       "       [ 0.],\n",
       "       [ 0.],\n",
       "       [ 1.],\n",
       "       [ 1.],\n",
       "       [ 0.],\n",
       "       [ 1.],\n",
       "       [ 1.],\n",
       "       [ 0.],\n",
       "       [ 1.],\n",
       "       [ 1.],\n",
       "       [ 0.],\n",
       "       [ 1.],\n",
       "       [ 0.],\n",
       "       [ 0.],\n",
       "       [ 1.],\n",
       "       [ 1.],\n",
       "       [ 1.],\n",
       "       [ 0.],\n",
       "       [ 0.],\n",
       "       [ 0.],\n",
       "       [ 1.],\n",
       "       [ 1.],\n",
       "       [ 0.],\n",
       "       [ 1.],\n",
       "       [ 0.],\n",
       "       [ 0.],\n",
       "       [ 0.],\n",
       "       [ 1.],\n",
       "       [ 0.],\n",
       "       [ 0.],\n",
       "       [ 1.],\n",
       "       [ 0.],\n",
       "       [ 1.],\n",
       "       [ 0.],\n",
       "       [ 0.],\n",
       "       [ 0.],\n",
       "       [ 1.],\n",
       "       [ 1.],\n",
       "       [ 1.],\n",
       "       [ 1.],\n",
       "       [ 1.],\n",
       "       [ 1.],\n",
       "       [ 1.],\n",
       "       [ 0.],\n",
       "       [ 0.],\n",
       "       [ 0.],\n",
       "       [ 1.],\n",
       "       [ 0.],\n",
       "       [ 1.],\n",
       "       [ 1.],\n",
       "       [ 1.],\n",
       "       [ 0.],\n",
       "       [ 0.],\n",
       "       [ 0.],\n",
       "       [ 0.],\n",
       "       [ 0.],\n",
       "       [ 1.],\n",
       "       [ 0.],\n",
       "       [ 1.],\n",
       "       [ 1.],\n",
       "       [ 0.],\n",
       "       [ 1.],\n",
       "       [ 1.],\n",
       "       [ 1.],\n",
       "       [ 1.],\n",
       "       [ 1.],\n",
       "       [ 1.],\n",
       "       [ 1.],\n",
       "       [ 0.],\n",
       "       [ 0.],\n",
       "       [ 1.],\n",
       "       [ 1.],\n",
       "       [ 1.],\n",
       "       [ 1.],\n",
       "       [ 1.],\n",
       "       [ 1.],\n",
       "       [ 0.],\n",
       "       [ 1.],\n",
       "       [ 1.],\n",
       "       [ 0.],\n",
       "       [ 1.],\n",
       "       [ 1.],\n",
       "       [ 0.],\n",
       "       [ 1.],\n",
       "       [ 1.],\n",
       "       [ 1.],\n",
       "       [ 1.],\n",
       "       [ 1.],\n",
       "       [ 1.],\n",
       "       [ 1.]])"
      ]
     },
     "execution_count": 22,
     "metadata": {},
     "output_type": "execute_result"
    }
   ],
   "source": [
    "y"
   ]
  },
  {
   "cell_type": "code",
   "execution_count": 11,
   "metadata": {},
   "outputs": [
    {
     "name": "stdout",
     "output_type": "stream",
     "text": [
      "Optimization terminated successfully.\n",
      "         Current function value: 0.203498\n",
      "         Iterations: 157\n",
      "         Function evaluations: 287\n"
     ]
    }
   ],
   "source": [
    "\n",
    "theta, mincost = optimizeTheta(initial_theta,X,y)\n",
    "#That's pretty cool. Black boxes ftw"
   ]
  },
  {
   "cell_type": "code",
   "execution_count": 14,
   "metadata": {},
   "outputs": [
    {
     "name": "stdout",
     "output_type": "stream",
     "text": [
      "0.2034977015902151\n"
     ]
    }
   ],
   "source": [
    " \n",
    "#You should see that the cost is about 0.203.\"\n",
    "print (computeCost(theta,X,y))"
   ]
  },
  {
   "cell_type": "code",
   "execution_count": 15,
   "metadata": {},
   "outputs": [
    {
     "data": {
      "text/plain": [
       "<matplotlib.legend.Legend at 0x80c3fb0>"
      ]
     },
     "execution_count": 15,
     "metadata": {},
     "output_type": "execute_result"
    },
    {
     "data": {
      "image/png": "[encoded data removed]",
      "text/plain": [
       "<matplotlib.figure.Figure at 0x80c3630>"
      ]
     },
     "metadata": {},
     "output_type": "display_data"
    }
   ],
   "source": [
    "#Plotting the decision boundary: two points, draw a line between\n",
    "#Decision boundary occurs when h = 0, or when\n",
    "#theta0 + theta1*x1 + theta2*x2 = 0\n",
    "#y=mx+b is replaced by x2 = (-1/thetheta2)(theta0 + theta1*x1)\n",
    "\n",
    "boundary_xs = np.array([np.min(X[:,1]), np.max(X[:,1])])\n",
    "boundary_ys = (-1./theta[2])*(theta[0] + theta[1]*boundary_xs)\n",
    "plotData()\n",
    "plt.plot(boundary_xs,boundary_ys,'b-',label='Decision Boundary')\n",
    "plt.legend()"
   ]
  },
  {
   "cell_type": "code",
   "execution_count": null,
   "metadata": {
    "collapsed": true
   },
   "outputs": [],
   "source": []
  }
 ],
 "metadata": {
  "kernelspec": {
   "display_name": "Python 3",
   "language": "python",
   "name": "python3"
  },
  "language_info": {
   "codemirror_mode": {
    "name": "ipython",
    "version": 3
   },
   "file_extension": ".py",
   "mimetype": "text/x-python",
   "name": "python",
   "nbconvert_exporter": "python",
   "pygments_lexer": "ipython3",
   "version": "3.6.2"
  }
 },
 "nbformat": 4,
 "nbformat_minor": 2
}
